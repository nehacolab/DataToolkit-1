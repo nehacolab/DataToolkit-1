{
  "nbformat": 4,
  "nbformat_minor": 0,
  "metadata": {
    "colab": {
      "provenance": []
    },
    "kernelspec": {
      "name": "python3",
      "display_name": "Python 3"
    },
    "language_info": {
      "name": "python"
    }
  },
  "cells": [
    {
      "cell_type": "markdown",
      "source": [
        "Q-1 What is numpy, and why is it widely used in python ?"
      ],
      "metadata": {
        "id": "JI48XF_H46SC"
      }
    },
    {
      "cell_type": "markdown",
      "source": [
        "Ans NumPy (short for Numerical Python) is a powerful library in Python used for numerical computing. It provides support for arrays, matrices, and a wide variety of mathematical functions to operate on these structures. It's the foundation for many other scientific libraries like Pandas, SciPy, and scikit-learn.\n",
        "\n",
        "Key Features of NumPy:\n",
        "N-Dimensional Arrays: NumPy introduces a powerful n-dimensional array object (ndarray), which is faster and more efficient than Python's native lists.\n",
        "\n",
        "Mathematical Functions: NumPy provides a large set of mathematical functions that operate element-wise on arrays, including linear algebra operations, statistical methods, Fourier transforms, etc.\n",
        "\n",
        "Broadcasting: This allows for automatic element-wise operations between arrays of different shapes and sizes, making code concise and efficient.\n",
        "\n",
        "Performance: NumPy is built on C and Fortran libraries, which means it can handle large datasets much faster than regular Python lists.\n",
        "\n",
        "Interoperability: NumPy integrates well with other libraries like Pandas, SciPy, and Matplotlib, and is used heavily in data science and machine learning workflows.\n",
        "\n",
        "Why is NumPy Widely Used?\n",
        "Efficiency: With its optimized, low-level C and Fortran code, NumPy allows for high performance in numerical operations.\n",
        "\n",
        "Convenience: It provides an easy-to-use interface for working with large datasets and performing complex mathematical operations.\n",
        "\n",
        "Extensive Ecosystem: Since many other Python libraries are built on top of NumPy, using it gives you access to a massive ecosystem of tools for data science, machine learning, and scientific computing.\n",
        "\n"
      ],
      "metadata": {
        "id": "bZmKa8G95rBp"
      }
    },
    {
      "cell_type": "markdown",
      "source": [
        "Q-2 How does broadcasting work in NumPy ?\n"
      ],
      "metadata": {
        "id": "5-mwxYeP7FYn"
      }
    },
    {
      "cell_type": "markdown",
      "source": [
        "Ans Broadcasting in NumPy\n",
        "Broadcasting is a feature in NumPy that allows operations between arrays of different shapes. Instead of requiring arrays to have the same shape, broadcasting automatically \"stretches\" smaller arrays to match the shape of the larger array, ensuring element-wise operations can be performed without explicitly reshaping the arrays.\n",
        "\n",
        "It’s particularly useful for operations like adding a scalar to an array or performing arithmetic between arrays of different dimensions.\n",
        "\n",
        "How Broadcasting Works:\n",
        "NumPy compares the shapes of the two arrays element by element, starting with the trailing dimensions (i.e., from the right). Broadcasting follows these rules:\n",
        "\n",
        "* If the arrays have a different number of dimensions, pad the smaller array’s shape with ones on the left side until both arrays have the same number of dimensions.\n",
        "\n",
        "* The two arrays are compatible if, for each dimension, the size of the dimension in one array is either the same as the size in the other array or one of them is 1.\n",
        "\n",
        "* If the sizes are not compatible, broadcasting will fail, and an error will be raised.\n",
        "\n"
      ],
      "metadata": {
        "id": "L8Kabz-B7dJ_"
      }
    },
    {
      "cell_type": "markdown",
      "source": [
        "Q-3  What is a Pandas Data Frame ?\n"
      ],
      "metadata": {
        "id": "Qty44w0t8wHB"
      }
    },
    {
      "cell_type": "markdown",
      "source": [
        "Ans A Pandas DataFrame is a two-dimensional, size-mutable, and potentially heterogeneous tabular data structure in Python. It is one of the most widely used objects in the Pandas library, which is essential for data analysis and manipulation.\n",
        "\n",
        "In simple terms, a DataFrame is like a table or spreadsheet that holds data in a structured format, with rows and columns, much like a database table or an Excel spreadsheet.\n",
        "\n",
        "Key Features of a Pandas DataFrame:\n",
        "Two-Dimensional Structure:\n",
        "A DataFrame has both rows and columns, which means it can store data in a grid-like structure. Each column can contain different data types, such as integers, floats, strings, or even more complex objects (like lists).\n",
        "\n",
        "Labels for Rows and Columns:\n",
        "\n",
        "Columns: Each column in a DataFrame is a Pandas Series (a one-dimensional array with labels).\n",
        "\n",
        "Rows: Each row has an index, and you can refer to rows using these indexes.\n",
        "\n",
        "Heterogeneous Data:\n",
        "A DataFrame can hold columns of different types (e.g., one column can have integers, another with strings, and another with floats).\n",
        "\n",
        "Handling Missing Data:\n",
        "Pandas provides built-in support for missing or NaN (Not a Number) values, allowing you to easily detect, replace, or drop them.\n",
        "\n",
        "Efficient Data Manipulation:\n",
        "It comes with numerous functions to:\n",
        "\n",
        "Filter, group, and aggregate data.\n",
        "\n",
        "Apply transformations.\n",
        "\n",
        "Merge and join different datasets.\n",
        "\n",
        "Sort and manipulate column/row indices.\n",
        "\n",
        "Handle missing data.\n",
        "\n",
        "Integration with Other Libraries:\n",
        "DataFrames can be easily integrated with other libraries such as NumPy, Matplotlib, and Scikit-learn for tasks like numerical computations, data visualization, and machine learning.\n",
        "\n"
      ],
      "metadata": {
        "id": "mTFiYKkR9YhJ"
      }
    },
    {
      "cell_type": "markdown",
      "source": [
        "Q -4  Explain the use of the groupby() method in Pandas ?\n"
      ],
      "metadata": {
        "id": "YGXCaiB2-PvB"
      }
    },
    {
      "cell_type": "markdown",
      "source": [
        "Ans The groupby() method in Pandas is one of the most powerful and flexible tools for data aggregation and summarization. It allows you to group your data based on one or more columns and then apply a function (like sum, mean, count, etc.) to each group, either individually or across the entire dataset.\n",
        "\n",
        "Basic Idea of groupby()\n",
        "Think of groupby() as a way of splitting the data into groups based on some criteria, then applying a function to each group, and finally combining the results back into a DataFrame. This follows the Split-Apply-Combine strategy:\n",
        "\n",
        "Split: The data is split into groups based on a column (or columns).\n",
        "\n",
        "Apply: A function is applied to each group (e.g., sum, mean, count, etc.).\n",
        "\n",
        "Combine: The results are combined back into a new DataFrame.\n",
        "\n"
      ],
      "metadata": {
        "id": "auUESlyE-oat"
      }
    },
    {
      "cell_type": "markdown",
      "source": [
        "Q -5  Why is Seaborn preferred for statistical visualizations ?\n"
      ],
      "metadata": {
        "id": "vnIpMwbd_QdZ"
      }
    },
    {
      "cell_type": "markdown",
      "source": [
        "Ans Seaborn is preferred for statistical visualizations because it offers:\n",
        "\n",
        "Built-in support for complex statistical plots (like boxplots, violin plots, and regression lines).\n",
        "\n",
        "Simpler syntax than Matplotlib for attractive and informative plots.\n",
        "\n",
        "Integration with pandas, making it easy to plot DataFrame data.\n",
        "\n",
        "Aesthetic themes for cleaner, publication-quality visuals.\n",
        "\n",
        "\n",
        "\n",
        "\n",
        "\n",
        "\n",
        "\n",
        "\n"
      ],
      "metadata": {
        "id": "uXIqmyXh_eeP"
      }
    },
    {
      "cell_type": "markdown",
      "source": [
        "Q-6 What are the differences between NumPy arrays and Python lists ?\n"
      ],
      "metadata": {
        "id": "BVKHQH8j_5kg"
      }
    },
    {
      "cell_type": "markdown",
      "source": [
        "Ans Key differences between NumPy arrays and Python lists:\n",
        "\n",
        "Performance: NumPy arrays are faster and more memory-efficient.\n",
        "\n",
        "Data type: NumPy arrays are homogeneous; lists can store mixed types.\n",
        "\n",
        "Functionality: NumPy supports element-wise operations and advanced math functions.\n",
        "\n",
        "Memory: Arrays use less memory due to compact storage.\n",
        "\n",
        "\n",
        "\n",
        "\n",
        "\n",
        "\n",
        "\n",
        "\n"
      ],
      "metadata": {
        "id": "l_qh4A1NAF0G"
      }
    },
    {
      "cell_type": "markdown",
      "source": [
        "Q -7  What is a heatmap, and when should it be used ?\n"
      ],
      "metadata": {
        "id": "TGq6aGoHAVpZ"
      }
    },
    {
      "cell_type": "markdown",
      "source": [
        "Ans A heatmap is a graphical representation of data where values are shown using color gradients.\n",
        "\n",
        "Use it when you want to visualize:\n",
        "\n",
        "Correlation matrices, to identify relationships between variables.\n",
        "\n",
        "Patterns or anomalies in large datasets.\n",
        "\n",
        "Intensity of values across two dimensions (like time vs. category).\n",
        "\n",
        "\n",
        "\n",
        "\n",
        "\n",
        "\n",
        "\n"
      ],
      "metadata": {
        "id": "yFfwYL5QApzg"
      }
    },
    {
      "cell_type": "markdown",
      "source": [
        "Q -8 What does the term “vectorized operation” mean in NumPy ?\n"
      ],
      "metadata": {
        "id": "ntSIcD10A8a6"
      }
    },
    {
      "cell_type": "markdown",
      "source": [
        "Ans A vectorized operation in NumPy means performing operations on entire arrays without using explicit loops.\n",
        "\n",
        "It’s faster and more efficient because it leverages low-level optimizations (C/Fortran) under the hood.\n",
        "Example: a + b adds two arrays element-wise without a loop.\n",
        "\n",
        "\n",
        "\n",
        "\n",
        "\n",
        "\n",
        "\n"
      ],
      "metadata": {
        "id": "nWnI8vy0BktQ"
      }
    },
    {
      "cell_type": "markdown",
      "source": [
        "Q-9 How does Matplotlib differ from Plotly ?\n"
      ],
      "metadata": {
        "id": "sPC2jYeaB17P"
      }
    },
    {
      "cell_type": "markdown",
      "source": [
        "Ans Matplotlib is a static plotting library ideal for traditional, publication-quality 2D plots.\n",
        "Plotly is an interactive plotting library great for web-based, dynamic, and 3D visualizations.\n",
        "\n",
        "In short:\n",
        "\n",
        "Matplotlib = static, customizable, widely used in academia.\n",
        "\n",
        "Plotly = interactive, browser-based, ideal for dashboards and presentations.\n",
        "\n",
        "\n",
        "\n",
        "\n",
        "\n",
        "\n",
        "\n",
        "\n"
      ],
      "metadata": {
        "id": "fWQSGo2NCQh1"
      }
    },
    {
      "cell_type": "markdown",
      "source": [
        "Q-10 What is the significance of hierarchical indexing in Pandas)\n"
      ],
      "metadata": {
        "id": "I8W0-FvWCcFJ"
      }
    },
    {
      "cell_type": "markdown",
      "source": [
        "Ans Hierarchical indexing (MultiIndex) in Pandas allows you to have multiple levels of indexing on rows or columns.\n",
        "\n",
        "Significance:\n",
        "\n",
        "Enables working with high-dimensional data in a 2D DataFrame.\n",
        "\n",
        "Makes grouping, reshaping, and slicing more powerful and intuitive.\n",
        "\n",
        "Useful for representing panel or time-series data compactly.\n",
        "\n",
        "\n",
        "\n",
        "\n",
        "\n",
        "\n",
        "\n",
        "\n"
      ],
      "metadata": {
        "id": "Rgaa4gf-Cl6B"
      }
    },
    {
      "cell_type": "markdown",
      "source": [
        "Q -11  What is the role of Seaborn's pairplot() function ?\n"
      ],
      "metadata": {
        "id": "vCdgXUq4C6Xt"
      }
    },
    {
      "cell_type": "markdown",
      "source": [
        "Ans Seaborn's pairplot() function creates a grid of scatter plots for all pairwise combinations of variables in a DataFrame. It helps visualize relationships and distributions between multiple numeric variables, making it useful for exploratory data analysis. You can also color points by a categorical variable using the hue parameter.\n",
        "\n",
        "\n",
        "\n",
        "\n",
        "\n",
        "\n",
        "\n",
        "\n"
      ],
      "metadata": {
        "id": "BnhGlwHn4Iy2"
      }
    },
    {
      "cell_type": "markdown",
      "source": [
        "Q-12  What is the purpose of the describe() function in Pandas ?\n"
      ],
      "metadata": {
        "id": "JgQ3XKeM4mZo"
      }
    },
    {
      "cell_type": "markdown",
      "source": [
        "Ans The describe() function in Pandas provides summary statistics of numerical columns in a DataFrame, such as count, mean, standard deviation, min, max, and quartiles. It's useful for quickly understanding the distribution and spread of your data.\n",
        "\n",
        "\n",
        "\n",
        "\n",
        "\n",
        "\n",
        "\n",
        "\n"
      ],
      "metadata": {
        "id": "l4y4Jc2O4xZy"
      }
    },
    {
      "cell_type": "markdown",
      "source": [
        "Q-13 A Why is handling missing data important in Pandas ?\n"
      ],
      "metadata": {
        "id": "8Tapjjfe5DAC"
      }
    },
    {
      "cell_type": "markdown",
      "source": [
        "Ans Handling missing data in Pandas is important because missing values can distort analysis, lead to incorrect results, and break certain functions or models. Properly dealing with them ensures data integrity and reliable outcomes in data processing and analysis.\n",
        "\n",
        "\n",
        "\n",
        "\n",
        "\n",
        "\n",
        "\n"
      ],
      "metadata": {
        "id": "ybu6TewC5PGz"
      }
    },
    {
      "cell_type": "markdown",
      "source": [
        "Q-14 What are the benefits of using Plotly for data visualization ?\n"
      ],
      "metadata": {
        "id": "TPxvO81M5dEi"
      }
    },
    {
      "cell_type": "markdown",
      "source": [
        "Ans Plotly offers interactive, high-quality visualizations with features like zooming, tooltips, and hover info. It's great for dashboards and web apps, supports a wide range of chart types, and integrates well with Python, R, and JavaScript.\n",
        "\n",
        "\n",
        "\n",
        "\n",
        "\n",
        "\n",
        "\n",
        "\n"
      ],
      "metadata": {
        "id": "iY6dJXEo5piI"
      }
    },
    {
      "cell_type": "markdown",
      "source": [
        "Q-15 How does NumPy handle multidimensional arrays ?\n"
      ],
      "metadata": {
        "id": "JE5Uj8a_53pg"
      }
    },
    {
      "cell_type": "markdown",
      "source": [
        "Ans NumPy handles multidimensional arrays using the ndarray object, which can store data in N dimensions. It allows efficient operations like slicing, broadcasting, and vectorized computations across dimensions, making it ideal for numerical and scientific computing.\n",
        "\n",
        "\n",
        "\n",
        "\n",
        "\n",
        "\n",
        "\n",
        "\n"
      ],
      "metadata": {
        "id": "Uo7XnndA6CHD"
      }
    },
    {
      "cell_type": "markdown",
      "source": [
        "Q-16 What is the role of Bokeh in data visualization ?\n"
      ],
      "metadata": {
        "id": "TvRUs0Hg6YZ1"
      }
    },
    {
      "cell_type": "markdown",
      "source": [
        "Ans Bokeh is a Python library used for creating interactive, web-ready visualizations. It supports real-time streaming, zooming, and tooltips, and can generate plots in HTML or JavaScript, making it ideal for dashboards and browser-based data apps.\n",
        "\n",
        "\n",
        "\n",
        "\n",
        "\n",
        "\n",
        "\n",
        "\n"
      ],
      "metadata": {
        "id": "b-17Ztt_6iL3"
      }
    },
    {
      "cell_type": "markdown",
      "source": [
        "Q-17 Explain the difference between apply() and map() in Pandas ?\n"
      ],
      "metadata": {
        "id": "eLYDKtS26sb2"
      }
    },
    {
      "cell_type": "markdown",
      "source": [
        "Ans In Pandas:\n",
        "\n",
        "map() is used only with Series, typically for element-wise transformations using a function, dictionary, or Series.\n",
        "\n",
        "apply() works with both Series and DataFrames and can apply a function along an axis (rows or columns), making it more versatile.\n",
        "\n"
      ],
      "metadata": {
        "id": "M27fRZLs63rn"
      }
    },
    {
      "cell_type": "markdown",
      "source": [
        "Q-18 What are some advanced features of NumPy ?\n"
      ],
      "metadata": {
        "id": "u434S11X7GPI"
      }
    },
    {
      "cell_type": "markdown",
      "source": [
        "Ans Some advanced features of NumPy include:\n",
        "\n",
        "Broadcasting – Enables operations on arrays of different shapes.\n",
        "\n",
        "Masked arrays – Handle invalid or missing data elegantly.\n",
        "\n",
        "Structured arrays – Store complex data types like records.\n",
        "\n",
        "Memory-mapped files – Work with large datasets without loading entirely into memory.\n",
        "\n",
        "Linear algebra and FFT – Built-in support for matrix operations, decompositions, and fast Fourier transforms.\n",
        "\n",
        "\n",
        "\n",
        "\n",
        "\n",
        "\n",
        "\n",
        "\n"
      ],
      "metadata": {
        "id": "Ma1eUBk37Sd6"
      }
    },
    {
      "cell_type": "markdown",
      "source": [
        "Q-19  How does Pandas simplify time series analysis ?\n"
      ],
      "metadata": {
        "id": "U36D7bys7f4f"
      }
    },
    {
      "cell_type": "markdown",
      "source": [
        "Pandas simplifies time series analysis with:\n",
        "\n",
        "Datetime indexing – Easy slicing and filtering by time.\n",
        "\n",
        "Resampling – Aggregate data by time periods (e.g., daily to monthly).\n",
        "\n",
        "Date range generation – Quick creation of time-based indexes.\n",
        "\n",
        "Built-in methods – Rolling windows, shifting, and lag operations for time-based computations.\n",
        "\n",
        "\n",
        "\n",
        "\n",
        "\n",
        "\n",
        "\n",
        "\n"
      ],
      "metadata": {
        "id": "oCLcqc1O7qOf"
      }
    },
    {
      "cell_type": "markdown",
      "source": [
        "Q-20 What is the role of a pivot table in Pandas ?\n"
      ],
      "metadata": {
        "id": "UNK9_KKs7yht"
      }
    },
    {
      "cell_type": "markdown",
      "source": [
        "Ans A pivot table in Pandas summarizes and reorganizes data by grouping it across one or more keys. It helps compute aggregates like sum, mean, or count for better data analysis and comparison, similar to Excel pivot tables.\n",
        "\n",
        "\n",
        "\n",
        "\n",
        "\n",
        "\n",
        "\n",
        "\n"
      ],
      "metadata": {
        "id": "wAHyFI4q769z"
      }
    },
    {
      "cell_type": "markdown",
      "source": [
        "Q-21 Why is NumPy’s array slicing faster than Python’s list slicing ?\n"
      ],
      "metadata": {
        "id": "Week6qcu8EEn"
      }
    },
    {
      "cell_type": "markdown",
      "source": [
        "Ans NumPy’s array slicing is faster because it operates on contiguous blocks of memory with fixed data types, enabling efficient low-level operations and avoiding Python’s per-element overhead. In contrast, Python lists store references and require more processing for each slice.\n",
        "\n",
        "\n",
        "\n",
        "\n",
        "\n",
        "\n",
        "\n",
        "\n"
      ],
      "metadata": {
        "id": "Zm5brAGU8Mwl"
      }
    },
    {
      "cell_type": "markdown",
      "source": [
        "Q-22 What are some common use cases for Seaborn ?\n"
      ],
      "metadata": {
        "id": "D-RRVinf8WKY"
      }
    },
    {
      "cell_type": "markdown",
      "source": [
        "Ans Common use cases for Seaborn include:\n",
        "\n",
        "Visualizing distributions with histograms, KDE plots, and boxplots.\n",
        "\n",
        "Exploring relationships using scatter plots, pairplots, and regression plots.\n",
        "\n",
        "Creating categorical plots like barplots, countplots, and violin plots.\n",
        "\n",
        "Enhancing statistical graphics with built-in themes and color palettes for clearer insights.\n",
        "\n",
        "\n",
        "\n",
        "\n",
        "\n",
        "\n",
        "\n",
        "\n"
      ],
      "metadata": {
        "id": "1ebvd6HV8etB"
      }
    },
    {
      "cell_type": "markdown",
      "source": [
        "Q-1  How do you create a 2D NumPy array and calculate the sum of each row ?\n"
      ],
      "metadata": {
        "id": "PpOsm-1f_85V"
      }
    },
    {
      "cell_type": "code",
      "source": [
        "import numpy as np\n",
        "\n",
        "# Create 2D array\n",
        "arr = np.array([[1, 2, 3],\n",
        "                [4, 5, 6],\n",
        "                [7, 8, 9]])\n",
        "\n",
        "# Sum of each row\n",
        "row_sums = arr.sum(axis=1)\n",
        "\n",
        "print(row_sums)"
      ],
      "metadata": {
        "colab": {
          "base_uri": "https://localhost:8080/"
        },
        "id": "8kidqP_IAJOo",
        "outputId": "a393f357-6918-4557-c903-081a525a25a9"
      },
      "execution_count": 18,
      "outputs": [
        {
          "output_type": "stream",
          "name": "stdout",
          "text": [
            "[ 6 15 24]\n"
          ]
        }
      ]
    },
    {
      "cell_type": "markdown",
      "source": [
        "Q-2  Write a Pandas script to find the mean of a specific column in a DataFrame ?\n"
      ],
      "metadata": {
        "id": "7Bp9OFIs0lWx"
      }
    },
    {
      "cell_type": "code",
      "source": [
        "\n",
        "\n",
        "import pandas as pd\n",
        "\n",
        "dfA = pd.DataFrame({'YourColumn': [1, 2, 3, 4, 5]})\n",
        "mean_val = dfA['YourColumn'].mean()\n",
        "print(mean_val)\n",
        "\n"
      ],
      "metadata": {
        "colab": {
          "base_uri": "https://localhost:8080/"
        },
        "id": "s0-JKj221C6o",
        "outputId": "7c5080e6-9e71-4b95-fc43-7aa89d515a00"
      },
      "execution_count": 2,
      "outputs": [
        {
          "output_type": "stream",
          "name": "stdout",
          "text": [
            "3.0\n"
          ]
        }
      ]
    },
    {
      "cell_type": "markdown",
      "source": [
        "Q-3 Create a scatter plot using Matplotlib ?\n"
      ],
      "metadata": {
        "id": "M_RMgp-n2MLP"
      }
    },
    {
      "cell_type": "code",
      "source": [
        "import matplotlib.pyplot as plt\n",
        "\n",
        "x = [1, 2, 3, 4, 5]\n",
        "y = [10, 20, 25, 30, 40]\n",
        "\n",
        "plt.scatter(x, y)\n",
        "plt.xlabel('X-axis')\n",
        "plt.ylabel('Y-axis')\n",
        "plt.title('Scatter Plot Example')\n",
        "plt.show()"
      ],
      "metadata": {
        "colab": {
          "base_uri": "https://localhost:8080/",
          "height": 472
        },
        "id": "2Ycbx2Qe2V3k",
        "outputId": "0fdd35f0-5d9d-4495-fdb7-ff4a355b816d"
      },
      "execution_count": 3,
      "outputs": [
        {
          "output_type": "display_data",
          "data": {
            "text/plain": [
              "<Figure size 640x480 with 1 Axes>"
            ],
            "image/png": "[encoded data removed]"
          },
          "metadata": {}
        }
      ]
    },
    {
      "cell_type": "markdown",
      "source": [
        "Q-4How do you calculate the correlation matrix using Seaborn and visualize it with a heatmap?\n"
      ],
      "metadata": {
        "id": "IrD7a81Q2pWX"
      }
    },
    {
      "cell_type": "code",
      "source": [
        "import seaborn as sns\n",
        "import pandas as pd\n",
        "import matplotlib.pyplot as plt\n",
        "\n",
        "# Example DataFrame\n",
        "df = pd.DataFrame({\n",
        "    'A': [1, 2, 3, 4],\n",
        "    'B': [10, 20, 30, 40],\n",
        "    'C': [5, 7, 6, 8]\n",
        "})\n",
        "\n",
        "# Correlation matrix\n",
        "corr = df.corr()\n",
        "\n",
        "# Heatmap\n",
        "sns.heatmap(corr, annot=True, cmap='coolwarm')\n",
        "plt.title('Correlation Matrix')\n",
        "plt.show()"
      ],
      "metadata": {
        "colab": {
          "base_uri": "https://localhost:8080/",
          "height": 452
        },
        "id": "XqsOaPeT2zNq",
        "outputId": "daef4981-cad9-4a92-f3b6-88f0236c412e"
      },
      "execution_count": 4,
      "outputs": [
        {
          "output_type": "display_data",
          "data": {
            "text/plain": [
              "<Figure size 640x480 with 2 Axes>"
            ],
            "image/png": "[encoded data removed]"
          },
          "metadata": {}
        }
      ]
    },
    {
      "cell_type": "markdown",
      "source": [
        "Q-5 Generate a bar plot using Plotly ?\n"
      ],
      "metadata": {
        "id": "pZNmbrNf3JR4"
      }
    },
    {
      "cell_type": "code",
      "source": [
        "import plotly.express as px\n",
        "import pandas as pd\n",
        "\n",
        "# Example DataFrame\n",
        "df = pd.DataFrame({\n",
        "    'Category': ['A', 'B', 'C'],\n",
        "    'Values': [10, 20, 15]\n",
        "})\n",
        "\n",
        "# Bar plot\n",
        "fig = px.bar(df, x='Category', y='Values', title='Bar Plot Example')\n",
        "fig.show()\n"
      ],
      "metadata": {
        "colab": {
          "base_uri": "https://localhost:8080/",
          "height": 542
        },
        "id": "649hxVAb3SA3",
        "outputId": "2a01342b-8dfc-42db-fc28-3702e20fca0b"
      },
      "execution_count": 5,
      "outputs": [
        {
          "output_type": "display_data",
          "data": {
            "text/html": [
              "<html>\n",
              "<head><meta charset=\"utf-8\" /></head>\n",
              "<body>\n",
              "    <div>            <script src=\"https://cdnjs.cloudflare.com/ajax/libs/mathjax/2.7.5/MathJax.js?config=TeX-AMS-MML_SVG\"></script><script type=\"text/javascript\">if (window.MathJax && window.MathJax.Hub && window.MathJax.Hub.Config) {window.MathJax.Hub.Config({SVG: {font: \"STIX-Web\"}});}</script>                <script type=\"text/javascript\">window.PlotlyConfig = {MathJaxConfig: 'local'};</script>\n",
              "        <script charset=\"utf-8\" src=\"https://cdn.plot.ly/plotly-2.35.2.min.js\"></script>                <div id=\"f98b93ac-3479-4ec0-83f7-df03f4be3838\" class=\"plotly-graph-div\" style=\"height:525px; width:100%;\"></div>            <script type=\"text/javascript\">                                    window.PLOTLYENV=window.PLOTLYENV || {};                                    if (document.getElementById(\"f98b93ac-3479-4ec0-83f7-df03f4be3838\")) {                    Plotly.newPlot(                        \"f98b93ac-3479-4ec0-83f7-df03f4be3838\",                        [{\"alignmentgroup\":\"True\",\"hovertemplate\":\"Category=%{x}\\u003cbr\\u003eValues=%{y}\\u003cextra\\u003e\\u003c\\u002fextra\\u003e\",\"legendgroup\":\"\",\"marker\":{\"color\":\"#636efa\",\"pattern\":{\"shape\":\"\"}},\"name\":\"\",\"offsetgroup\":\"\",\"orientation\":\"v\",\"showlegend\":false,\"textposition\":\"auto\",\"x\":[\"A\",\"B\",\"C\"],\"xaxis\":\"x\",\"y\":[10,20,15],\"yaxis\":\"y\",\"type\":\"bar\"}],                        {\"template\":{\"data\":{\"histogram2dcontour\":[{\"type\":\"histogram2dcontour\",\"colorbar\":{\"outlinewidth\":0,\"ticks\":\"\"},\"colorscale\":[[0.0,\"#0d0887\"],[0.1111111111111111,\"#46039f\"],[0.2222222222222222,\"#7201a8\"],[0.3333333333333333,\"#9c179e\"],[0.4444444444444444,\"#bd3786\"],[0.5555555555555556,\"#d8576b\"],[0.6666666666666666,\"#ed7953\"],[0.7777777777777778,\"#fb9f3a\"],[0.8888888888888888,\"#fdca26\"],[1.0,\"#f0f921\"]]}],\"choropleth\":[{\"type\":\"choropleth\",\"colorbar\":{\"outlinewidth\":0,\"ticks\":\"\"}}],\"histogram2d\":[{\"type\":\"histogram2d\",\"colorbar\":{\"outlinewidth\":0,\"ticks\":\"\"},\"colorscale\":[[0.0,\"#0d0887\"],[0.1111111111111111,\"#46039f\"],[0.2222222222222222,\"#7201a8\"],[0.3333333333333333,\"#9c179e\"],[0.4444444444444444,\"#bd3786\"],[0.5555555555555556,\"#d8576b\"],[0.6666666666666666,\"#ed7953\"],[0.7777777777777778,\"#fb9f3a\"],[0.8888888888888888,\"#fdca26\"],[1.0,\"#f0f921\"]]}],\"heatmap\":[{\"type\":\"heatmap\",\"colorbar\":{\"outlinewidth\":0,\"ticks\":\"\"},\"colorscale\":[[0.0,\"#0d0887\"],[0.1111111111111111,\"#46039f\"],[0.2222222222222222,\"#7201a8\"],[0.3333333333333333,\"#9c179e\"],[0.4444444444444444,\"#bd3786\"],[0.5555555555555556,\"#d8576b\"],[0.6666666666666666,\"#ed7953\"],[0.7777777777777778,\"#fb9f3a\"],[0.8888888888888888,\"#fdca26\"],[1.0,\"#f0f921\"]]}],\"heatmapgl\":[{\"type\":\"heatmapgl\",\"colorbar\":{\"outlinewidth\":0,\"ticks\":\"\"},\"colorscale\":[[0.0,\"#0d0887\"],[0.1111111111111111,\"#46039f\"],[0.2222222222222222,\"#7201a8\"],[0.3333333333333333,\"#9c179e\"],[0.4444444444444444,\"#bd3786\"],[0.5555555555555556,\"#d8576b\"],[0.6666666666666666,\"#ed7953\"],[0.7777777777777778,\"#fb9f3a\"],[0.8888888888888888,\"#fdca26\"],[1.0,\"#f0f921\"]]}],\"contourcarpet\":[{\"type\":\"contourcarpet\",\"colorbar\":{\"outlinewidth\":0,\"ticks\":\"\"}}],\"contour\":[{\"type\":\"contour\",\"colorbar\":{\"outlinewidth\":0,\"ticks\":\"\"},\"colorscale\":[[0.0,\"#0d0887\"],[0.1111111111111111,\"#46039f\"],[0.2222222222222222,\"#7201a8\"],[0.3333333333333333,\"#9c179e\"],[0.4444444444444444,\"#bd3786\"],[0.5555555555555556,\"#d8576b\"],[0.6666666666666666,\"#ed7953\"],[0.7777777777777778,\"#fb9f3a\"],[0.8888888888888888,\"#fdca26\"],[1.0,\"#f0f921\"]]}],\"surface\":[{\"type\":\"surface\",\"colorbar\":{\"outlinewidth\":0,\"ticks\":\"\"},\"colorscale\":[[0.0,\"#0d0887\"],[0.1111111111111111,\"#46039f\"],[0.2222222222222222,\"#7201a8\"],[0.3333333333333333,\"#9c179e\"],[0.4444444444444444,\"#bd3786\"],[0.5555555555555556,\"#d8576b\"],[0.6666666666666666,\"#ed7953\"],[0.7777777777777778,\"#fb9f3a\"],[0.8888888888888888,\"#fdca26\"],[1.0,\"#f0f921\"]]}],\"mesh3d\":[{\"type\":\"mesh3d\",\"colorbar\":{\"outlinewidth\":0,\"ticks\":\"\"}}],\"scatter\":[{\"fillpattern\":{\"fillmode\":\"overlay\",\"size\":10,\"solidity\":0.2},\"type\":\"scatter\"}],\"parcoords\":[{\"type\":\"parcoords\",\"line\":{\"colorbar\":{\"outlinewidth\":0,\"ticks\":\"\"}}}],\"scatterpolargl\":[{\"type\":\"scatterpolargl\",\"marker\":{\"colorbar\":{\"outlinewidth\":0,\"ticks\":\"\"}}}],\"bar\":[{\"error_x\":{\"color\":\"#2a3f5f\"},\"error_y\":{\"color\":\"#2a3f5f\"},\"marker\":{\"line\":{\"color\":\"#E5ECF6\",\"width\":0.5},\"pattern\":{\"fillmode\":\"overlay\",\"size\":10,\"solidity\":0.2}},\"type\":\"bar\"}],\"scattergeo\":[{\"type\":\"scattergeo\",\"marker\":{\"colorbar\":{\"outlinewidth\":0,\"ticks\":\"\"}}}],\"scatterpolar\":[{\"type\":\"scatterpolar\",\"marker\":{\"colorbar\":{\"outlinewidth\":0,\"ticks\":\"\"}}}],\"histogram\":[{\"marker\":{\"pattern\":{\"fillmode\":\"overlay\",\"size\":10,\"solidity\":0.2}},\"type\":\"histogram\"}],\"scattergl\":[{\"type\":\"scattergl\",\"marker\":{\"colorbar\":{\"outlinewidth\":0,\"ticks\":\"\"}}}],\"scatter3d\":[{\"type\":\"scatter3d\",\"line\":{\"colorbar\":{\"outlinewidth\":0,\"ticks\":\"\"}},\"marker\":{\"colorbar\":{\"outlinewidth\":0,\"ticks\":\"\"}}}],\"scattermapbox\":[{\"type\":\"scattermapbox\",\"marker\":{\"colorbar\":{\"outlinewidth\":0,\"ticks\":\"\"}}}],\"scatterternary\":[{\"type\":\"scatterternary\",\"marker\":{\"colorbar\":{\"outlinewidth\":0,\"ticks\":\"\"}}}],\"scattercarpet\":[{\"type\":\"scattercarpet\",\"marker\":{\"colorbar\":{\"outlinewidth\":0,\"ticks\":\"\"}}}],\"carpet\":[{\"aaxis\":{\"endlinecolor\":\"#2a3f5f\",\"gridcolor\":\"white\",\"linecolor\":\"white\",\"minorgridcolor\":\"white\",\"startlinecolor\":\"#2a3f5f\"},\"baxis\":{\"endlinecolor\":\"#2a3f5f\",\"gridcolor\":\"white\",\"linecolor\":\"white\",\"minorgridcolor\":\"white\",\"startlinecolor\":\"#2a3f5f\"},\"type\":\"carpet\"}],\"table\":[{\"cells\":{\"fill\":{\"color\":\"#EBF0F8\"},\"line\":{\"color\":\"white\"}},\"header\":{\"fill\":{\"color\":\"#C8D4E3\"},\"line\":{\"color\":\"white\"}},\"type\":\"table\"}],\"barpolar\":[{\"marker\":{\"line\":{\"color\":\"#E5ECF6\",\"width\":0.5},\"pattern\":{\"fillmode\":\"overlay\",\"size\":10,\"solidity\":0.2}},\"type\":\"barpolar\"}],\"pie\":[{\"automargin\":true,\"type\":\"pie\"}]},\"layout\":{\"autotypenumbers\":\"strict\",\"colorway\":[\"#636efa\",\"#EF553B\",\"#00cc96\",\"#ab63fa\",\"#FFA15A\",\"#19d3f3\",\"#FF6692\",\"#B6E880\",\"#FF97FF\",\"#FECB52\"],\"font\":{\"color\":\"#2a3f5f\"},\"hovermode\":\"closest\",\"hoverlabel\":{\"align\":\"left\"},\"paper_bgcolor\":\"white\",\"plot_bgcolor\":\"#E5ECF6\",\"polar\":{\"bgcolor\":\"#E5ECF6\",\"angularaxis\":{\"gridcolor\":\"white\",\"linecolor\":\"white\",\"ticks\":\"\"},\"radialaxis\":{\"gridcolor\":\"white\",\"linecolor\":\"white\",\"ticks\":\"\"}},\"ternary\":{\"bgcolor\":\"#E5ECF6\",\"aaxis\":{\"gridcolor\":\"white\",\"linecolor\":\"white\",\"ticks\":\"\"},\"baxis\":{\"gridcolor\":\"white\",\"linecolor\":\"white\",\"ticks\":\"\"},\"caxis\":{\"gridcolor\":\"white\",\"linecolor\":\"white\",\"ticks\":\"\"}},\"coloraxis\":{\"colorbar\":{\"outlinewidth\":0,\"ticks\":\"\"}},\"colorscale\":{\"sequential\":[[0.0,\"#0d0887\"],[0.1111111111111111,\"#46039f\"],[0.2222222222222222,\"#7201a8\"],[0.3333333333333333,\"#9c179e\"],[0.4444444444444444,\"#bd3786\"],[0.5555555555555556,\"#d8576b\"],[0.6666666666666666,\"#ed7953\"],[0.7777777777777778,\"#fb9f3a\"],[0.8888888888888888,\"#fdca26\"],[1.0,\"#f0f921\"]],\"sequentialminus\":[[0.0,\"#0d0887\"],[0.1111111111111111,\"#46039f\"],[0.2222222222222222,\"#7201a8\"],[0.3333333333333333,\"#9c179e\"],[0.4444444444444444,\"#bd3786\"],[0.5555555555555556,\"#d8576b\"],[0.6666666666666666,\"#ed7953\"],[0.7777777777777778,\"#fb9f3a\"],[0.8888888888888888,\"#fdca26\"],[1.0,\"#f0f921\"]],\"diverging\":[[0,\"#8e0152\"],[0.1,\"#c51b7d\"],[0.2,\"#de77ae\"],[0.3,\"#f1b6da\"],[0.4,\"#fde0ef\"],[0.5,\"#f7f7f7\"],[0.6,\"#e6f5d0\"],[0.7,\"#b8e186\"],[0.8,\"#7fbc41\"],[0.9,\"#4d9221\"],[1,\"#276419\"]]},\"xaxis\":{\"gridcolor\":\"white\",\"linecolor\":\"white\",\"ticks\":\"\",\"title\":{\"standoff\":15},\"zerolinecolor\":\"white\",\"automargin\":true,\"zerolinewidth\":2},\"yaxis\":{\"gridcolor\":\"white\",\"linecolor\":\"white\",\"ticks\":\"\",\"title\":{\"standoff\":15},\"zerolinecolor\":\"white\",\"automargin\":true,\"zerolinewidth\":2},\"scene\":{\"xaxis\":{\"backgroundcolor\":\"#E5ECF6\",\"gridcolor\":\"white\",\"linecolor\":\"white\",\"showbackground\":true,\"ticks\":\"\",\"zerolinecolor\":\"white\",\"gridwidth\":2},\"yaxis\":{\"backgroundcolor\":\"#E5ECF6\",\"gridcolor\":\"white\",\"linecolor\":\"white\",\"showbackground\":true,\"ticks\":\"\",\"zerolinecolor\":\"white\",\"gridwidth\":2},\"zaxis\":{\"backgroundcolor\":\"#E5ECF6\",\"gridcolor\":\"white\",\"linecolor\":\"white\",\"showbackground\":true,\"ticks\":\"\",\"zerolinecolor\":\"white\",\"gridwidth\":2}},\"shapedefaults\":{\"line\":{\"color\":\"#2a3f5f\"}},\"annotationdefaults\":{\"arrowcolor\":\"#2a3f5f\",\"arrowhead\":0,\"arrowwidth\":1},\"geo\":{\"bgcolor\":\"white\",\"landcolor\":\"#E5ECF6\",\"subunitcolor\":\"white\",\"showland\":true,\"showlakes\":true,\"lakecolor\":\"white\"},\"title\":{\"x\":0.05},\"mapbox\":{\"style\":\"light\"}}},\"xaxis\":{\"anchor\":\"y\",\"domain\":[0.0,1.0],\"title\":{\"text\":\"Category\"}},\"yaxis\":{\"anchor\":\"x\",\"domain\":[0.0,1.0],\"title\":{\"text\":\"Values\"}},\"legend\":{\"tracegroupgap\":0},\"title\":{\"text\":\"Bar Plot Example\"},\"barmode\":\"relative\"},                        {\"responsive\": true}                    ).then(function(){\n",
              "                            \n",
              "var gd = document.getElementById('f98b93ac-3479-4ec0-83f7-df03f4be3838');\n",
              "var x = new MutationObserver(function (mutations, observer) {{\n",
              "        var display = window.getComputedStyle(gd).display;\n",
              "        if (!display || display === 'none') {{\n",
              "            console.log([gd, 'removed!']);\n",
              "            Plotly.purge(gd);\n",
              "            observer.disconnect();\n",
              "        }}\n",
              "}});\n",
              "\n",
              "// Listen for the removal of the full notebook cells\n",
              "var notebookContainer = gd.closest('#notebook-container');\n",
              "if (notebookContainer) {{\n",
              "    x.observe(notebookContainer, {childList: true});\n",
              "}}\n",
              "\n",
              "// Listen for the clearing of the current output cell\n",
              "var outputEl = gd.closest('.output');\n",
              "if (outputEl) {{\n",
              "    x.observe(outputEl, {childList: true});\n",
              "}}\n",
              "\n",
              "                        })                };                            </script>        </div>\n",
              "</body>\n",
              "</html>"
            ]
          },
          "metadata": {}
        }
      ]
    },
    {
      "cell_type": "markdown",
      "source": [
        "Q-6 Create a DataFrame and add a new column based on an existing column ?\n"
      ],
      "metadata": {
        "id": "kMqhjJmd3i-o"
      }
    },
    {
      "cell_type": "code",
      "source": [
        "import pandas as pd\n",
        "\n",
        "# Create DataFrame\n",
        "df = pd.DataFrame({'A': [1, 2, 3, 4]})\n",
        "\n",
        "# Add new column 'B' as double of 'A'\n",
        "df['B'] = df['A'] * 2\n",
        "\n",
        "print(df)\n"
      ],
      "metadata": {
        "colab": {
          "base_uri": "https://localhost:8080/"
        },
        "id": "ebLsAggq3q8N",
        "outputId": "008ce68c-d308-4023-c202-63421ac65d3a"
      },
      "execution_count": 6,
      "outputs": [
        {
          "output_type": "stream",
          "name": "stdout",
          "text": [
            "   A  B\n",
            "0  1  2\n",
            "1  2  4\n",
            "2  3  6\n",
            "3  4  8\n"
          ]
        }
      ]
    },
    {
      "cell_type": "markdown",
      "source": [
        "Q-7 Write a program to perform element-wise multiplication of two NumPy arrays ?\n"
      ],
      "metadata": {
        "id": "PUAtDHu630tv"
      }
    },
    {
      "cell_type": "code",
      "source": [
        "import numpy as np\n",
        "\n",
        "a = np.array([1, 2, 3])\n",
        "b = np.array([4, 5, 6])\n",
        "\n",
        "result = a * b\n",
        "print(result)"
      ],
      "metadata": {
        "colab": {
          "base_uri": "https://localhost:8080/"
        },
        "id": "uhTEZ3gx3-hy",
        "outputId": "3772d31d-a8ae-495b-b591-0fc8dae92ce4"
      },
      "execution_count": 7,
      "outputs": [
        {
          "output_type": "stream",
          "name": "stdout",
          "text": [
            "[ 4 10 18]\n"
          ]
        }
      ]
    },
    {
      "cell_type": "markdown",
      "source": [
        "Q-8 Create a line plot with multiple lines using Matplotlib ?\n"
      ],
      "metadata": {
        "id": "MZFS9H5D4Ix-"
      }
    },
    {
      "cell_type": "code",
      "source": [
        "import matplotlib.pyplot as plt\n",
        "\n",
        "x = [1, 2, 3, 4]\n",
        "y1 = [10, 20, 25, 30]\n",
        "y2 = [5, 15, 20, 22]\n",
        "\n",
        "plt.plot(x, y1, label='Line 1')\n",
        "plt.plot(x, y2, label='Line 2')\n",
        "\n",
        "plt.xlabel('X-axis')\n",
        "plt.ylabel('Y-axis')\n",
        "plt.title('Multiple Line Plot')\n",
        "plt.legend()\n",
        "plt.show()"
      ],
      "metadata": {
        "colab": {
          "base_uri": "https://localhost:8080/",
          "height": 472
        },
        "id": "z48d4F_14YRk",
        "outputId": "390f0731-31d3-46e2-84a3-f66dbee2c973"
      },
      "execution_count": 8,
      "outputs": [
        {
          "output_type": "display_data",
          "data": {
            "text/plain": [
              "<Figure size 640x480 with 1 Axes>"
            ],
            "image/png": "[encoded data removed]"
          },
          "metadata": {}
        }
      ]
    },
    {
      "cell_type": "markdown",
      "source": [
        "Q-9 Generate a Pandas DataFrame and filter rows where a column value is greater than a threshold ?\n"
      ],
      "metadata": {
        "id": "oycyRQH34gGF"
      }
    },
    {
      "cell_type": "code",
      "source": [
        "import pandas as pd\n",
        "\n",
        "# Create DataFrame\n",
        "df = pd.DataFrame({\n",
        "    'Score': [55, 78, 92, 45, 67]\n",
        "})\n",
        "\n",
        "# Filter rows where 'Score' > 70\n",
        "filtered_df = df[df['Score'] > 70]\n",
        "\n",
        "print(filtered_df)"
      ],
      "metadata": {
        "colab": {
          "base_uri": "https://localhost:8080/"
        },
        "id": "Hu2_rLfc4p7r",
        "outputId": "fed354d7-9ea3-4256-f4b9-fbbbfbb990b8"
      },
      "execution_count": 9,
      "outputs": [
        {
          "output_type": "stream",
          "name": "stdout",
          "text": [
            "   Score\n",
            "1     78\n",
            "2     92\n"
          ]
        }
      ]
    },
    {
      "cell_type": "markdown",
      "source": [
        "Q-10 Create a histogram using Seaborn to visualize a distribution ?\n"
      ],
      "metadata": {
        "id": "hxdrs86_5EjD"
      }
    },
    {
      "cell_type": "code",
      "source": [
        "import seaborn as sns\n",
        "import matplotlib.pyplot as plt\n",
        "\n",
        "# Sample data\n",
        "data = [12, 15, 13, 17, 19, 21, 22, 22, 23, 25, 30, 31, 33]\n",
        "\n",
        "# Create histogram\n",
        "sns.histplot(data, bins=5, kde=False)\n",
        "\n",
        "plt.title('Histogram Example')\n",
        "plt.xlabel('Value')\n",
        "plt.ylabel('Frequency')\n",
        "plt.show()"
      ],
      "metadata": {
        "colab": {
          "base_uri": "https://localhost:8080/",
          "height": 472
        },
        "id": "zMwFp1IW5O2-",
        "outputId": "97bcba02-c6c5-4517-d38e-f894de60f1bc"
      },
      "execution_count": 10,
      "outputs": [
        {
          "output_type": "display_data",
          "data": {
            "text/plain": [
              "<Figure size 640x480 with 1 Axes>"
            ],
            "image/png": "[encoded data removed]"
          },
          "metadata": {}
        }
      ]
    },
    {
      "cell_type": "markdown",
      "source": [
        "Q-11  Perform matrix multiplication using NumPy ?\n"
      ],
      "metadata": {
        "id": "8_Ik7Rtx5ZTX"
      }
    },
    {
      "cell_type": "code",
      "source": [
        "import numpy as np\n",
        "\n",
        "A = np.array([[1, 2],\n",
        "              [3, 4]])\n",
        "\n",
        "B = np.array([[5, 6],\n",
        "              [7, 8]])\n",
        "\n",
        "# Matrix multiplication\n",
        "result = np.dot(A, B)\n",
        "# Alternatively, you can use: result = A @ B\n",
        "\n",
        "print(result)"
      ],
      "metadata": {
        "colab": {
          "base_uri": "https://localhost:8080/"
        },
        "id": "rXVQPf-U5jG2",
        "outputId": "ffd68a6a-a85b-4f76-c7d8-926da626580c"
      },
      "execution_count": 11,
      "outputs": [
        {
          "output_type": "stream",
          "name": "stdout",
          "text": [
            "[[19 22]\n",
            " [43 50]]\n"
          ]
        }
      ]
    },
    {
      "cell_type": "markdown",
      "source": [
        "Q-12  Use Pandas to load a CSV file and display its first 5 rows ?\n"
      ],
      "metadata": {
        "id": "LcfevrMI5sZB"
      }
    },
    {
      "cell_type": "code",
      "source": [
        "# prompt: Use Pandas to load a CSV file and display its first 5 rows ?\n",
        "\n",
        "import pandas as pd\n",
        "# To run this cell, you need to have a CSV file in your Colab environment.\n",
        "# You can upload a file using the file browser icon on the left.\n",
        "# Replace 'your_file.csv' with the actual name of your CSV file.\n",
        "try:\n",
        "  df = pd.read_csv('your_file.csv')\n",
        "  print(df.head())\n",
        "except FileNotFoundError:\n",
        "  print(\"Error: 'your_file.csv' not found. Please upload the file.\")"
      ],
      "metadata": {
        "colab": {
          "base_uri": "https://localhost:8080/"
        },
        "id": "lJi7t-sDCPcf",
        "outputId": "30754db0-5ca9-44d0-ac7c-2f15615ca056"
      },
      "execution_count": 24,
      "outputs": [
        {
          "output_type": "stream",
          "name": "stdout",
          "text": [
            "Error: 'your_file.csv' not found. Please upload the file.\n"
          ]
        }
      ]
    },
    {
      "cell_type": "markdown",
      "source": [
        "Q-13 A Create a 3D scatter plot using Plotly ?\n"
      ],
      "metadata": {
        "id": "slJvzWtlCnwz"
      }
    },
    {
      "cell_type": "code",
      "source": [
        "import plotly.express as px\n",
        "import pandas as pd\n",
        "\n",
        "# Example DataFrame\n",
        "df = pd.DataFrame({\n",
        "    'X': [1, 2, 3, 4],\n",
        "    'Y': [10, 15, 13, 17],\n",
        "    'Z': [5, 6, 7, 8]\n",
        "})\n",
        "\n",
        "# Create 3D scatter plot\n",
        "fig = px.scatter_3d(df, x='X', y='Y', z='Z', title='3D Scatter Plot')\n",
        "fig.show()"
      ],
      "metadata": {
        "colab": {
          "base_uri": "https://localhost:8080/",
          "height": 542
        },
        "id": "i0DPR6v-CvzM",
        "outputId": "060b30d7-c8ec-4fb5-f6e1-0c579e0f4d2e"
      },
      "execution_count": 22,
      "outputs": [
        {
          "output_type": "display_data",
          "data": {
            "text/html": [
              "<html>\n",
              "<head><meta charset=\"utf-8\" /></head>\n",
              "<body>\n",
              "    <div>            <script src=\"https://cdnjs.cloudflare.com/ajax/libs/mathjax/2.7.5/MathJax.js?config=TeX-AMS-MML_SVG\"></script><script type=\"text/javascript\">if (window.MathJax && window.MathJax.Hub && window.MathJax.Hub.Config) {window.MathJax.Hub.Config({SVG: {font: \"STIX-Web\"}});}</script>                <script type=\"text/javascript\">window.PlotlyConfig = {MathJaxConfig: 'local'};</script>\n",
              "        <script charset=\"utf-8\" src=\"https://cdn.plot.ly/plotly-2.35.2.min.js\"></script>                <div id=\"94724695-33c8-4015-babe-c3414010b193\" class=\"plotly-graph-div\" style=\"height:525px; width:100%;\"></div>            <script type=\"text/javascript\">                                    window.PLOTLYENV=window.PLOTLYENV || {};                                    if (document.getElementById(\"94724695-33c8-4015-babe-c3414010b193\")) {                    Plotly.newPlot(                        \"94724695-33c8-4015-babe-c3414010b193\",                        [{\"hovertemplate\":\"X=%{x}\\u003cbr\\u003eY=%{y}\\u003cbr\\u003eZ=%{z}\\u003cextra\\u003e\\u003c\\u002fextra\\u003e\",\"legendgroup\":\"\",\"marker\":{\"color\":\"#636efa\",\"symbol\":\"circle\"},\"mode\":\"markers\",\"name\":\"\",\"scene\":\"scene\",\"showlegend\":false,\"x\":[1,2,3,4],\"y\":[10,15,13,17],\"z\":[5,6,7,8],\"type\":\"scatter3d\"}],                        {\"template\":{\"data\":{\"histogram2dcontour\":[{\"type\":\"histogram2dcontour\",\"colorbar\":{\"outlinewidth\":0,\"ticks\":\"\"},\"colorscale\":[[0.0,\"#0d0887\"],[0.1111111111111111,\"#46039f\"],[0.2222222222222222,\"#7201a8\"],[0.3333333333333333,\"#9c179e\"],[0.4444444444444444,\"#bd3786\"],[0.5555555555555556,\"#d8576b\"],[0.6666666666666666,\"#ed7953\"],[0.7777777777777778,\"#fb9f3a\"],[0.8888888888888888,\"#fdca26\"],[1.0,\"#f0f921\"]]}],\"choropleth\":[{\"type\":\"choropleth\",\"colorbar\":{\"outlinewidth\":0,\"ticks\":\"\"}}],\"histogram2d\":[{\"type\":\"histogram2d\",\"colorbar\":{\"outlinewidth\":0,\"ticks\":\"\"},\"colorscale\":[[0.0,\"#0d0887\"],[0.1111111111111111,\"#46039f\"],[0.2222222222222222,\"#7201a8\"],[0.3333333333333333,\"#9c179e\"],[0.4444444444444444,\"#bd3786\"],[0.5555555555555556,\"#d8576b\"],[0.6666666666666666,\"#ed7953\"],[0.7777777777777778,\"#fb9f3a\"],[0.8888888888888888,\"#fdca26\"],[1.0,\"#f0f921\"]]}],\"heatmap\":[{\"type\":\"heatmap\",\"colorbar\":{\"outlinewidth\":0,\"ticks\":\"\"},\"colorscale\":[[0.0,\"#0d0887\"],[0.1111111111111111,\"#46039f\"],[0.2222222222222222,\"#7201a8\"],[0.3333333333333333,\"#9c179e\"],[0.4444444444444444,\"#bd3786\"],[0.5555555555555556,\"#d8576b\"],[0.6666666666666666,\"#ed7953\"],[0.7777777777777778,\"#fb9f3a\"],[0.8888888888888888,\"#fdca26\"],[1.0,\"#f0f921\"]]}],\"heatmapgl\":[{\"type\":\"heatmapgl\",\"colorbar\":{\"outlinewidth\":0,\"ticks\":\"\"},\"colorscale\":[[0.0,\"#0d0887\"],[0.1111111111111111,\"#46039f\"],[0.2222222222222222,\"#7201a8\"],[0.3333333333333333,\"#9c179e\"],[0.4444444444444444,\"#bd3786\"],[0.5555555555555556,\"#d8576b\"],[0.6666666666666666,\"#ed7953\"],[0.7777777777777778,\"#fb9f3a\"],[0.8888888888888888,\"#fdca26\"],[1.0,\"#f0f921\"]]}],\"contourcarpet\":[{\"type\":\"contourcarpet\",\"colorbar\":{\"outlinewidth\":0,\"ticks\":\"\"}}],\"contour\":[{\"type\":\"contour\",\"colorbar\":{\"outlinewidth\":0,\"ticks\":\"\"},\"colorscale\":[[0.0,\"#0d0887\"],[0.1111111111111111,\"#46039f\"],[0.2222222222222222,\"#7201a8\"],[0.3333333333333333,\"#9c179e\"],[0.4444444444444444,\"#bd3786\"],[0.5555555555555556,\"#d8576b\"],[0.6666666666666666,\"#ed7953\"],[0.7777777777777778,\"#fb9f3a\"],[0.8888888888888888,\"#fdca26\"],[1.0,\"#f0f921\"]]}],\"surface\":[{\"type\":\"surface\",\"colorbar\":{\"outlinewidth\":0,\"ticks\":\"\"},\"colorscale\":[[0.0,\"#0d0887\"],[0.1111111111111111,\"#46039f\"],[0.2222222222222222,\"#7201a8\"],[0.3333333333333333,\"#9c179e\"],[0.4444444444444444,\"#bd3786\"],[0.5555555555555556,\"#d8576b\"],[0.6666666666666666,\"#ed7953\"],[0.7777777777777778,\"#fb9f3a\"],[0.8888888888888888,\"#fdca26\"],[1.0,\"#f0f921\"]]}],\"mesh3d\":[{\"type\":\"mesh3d\",\"colorbar\":{\"outlinewidth\":0,\"ticks\":\"\"}}],\"scatter\":[{\"fillpattern\":{\"fillmode\":\"overlay\",\"size\":10,\"solidity\":0.2},\"type\":\"scatter\"}],\"parcoords\":[{\"type\":\"parcoords\",\"line\":{\"colorbar\":{\"outlinewidth\":0,\"ticks\":\"\"}}}],\"scatterpolargl\":[{\"type\":\"scatterpolargl\",\"marker\":{\"colorbar\":{\"outlinewidth\":0,\"ticks\":\"\"}}}],\"bar\":[{\"error_x\":{\"color\":\"#2a3f5f\"},\"error_y\":{\"color\":\"#2a3f5f\"},\"marker\":{\"line\":{\"color\":\"#E5ECF6\",\"width\":0.5},\"pattern\":{\"fillmode\":\"overlay\",\"size\":10,\"solidity\":0.2}},\"type\":\"bar\"}],\"scattergeo\":[{\"type\":\"scattergeo\",\"marker\":{\"colorbar\":{\"outlinewidth\":0,\"ticks\":\"\"}}}],\"scatterpolar\":[{\"type\":\"scatterpolar\",\"marker\":{\"colorbar\":{\"outlinewidth\":0,\"ticks\":\"\"}}}],\"histogram\":[{\"marker\":{\"pattern\":{\"fillmode\":\"overlay\",\"size\":10,\"solidity\":0.2}},\"type\":\"histogram\"}],\"scattergl\":[{\"type\":\"scattergl\",\"marker\":{\"colorbar\":{\"outlinewidth\":0,\"ticks\":\"\"}}}],\"scatter3d\":[{\"type\":\"scatter3d\",\"line\":{\"colorbar\":{\"outlinewidth\":0,\"ticks\":\"\"}},\"marker\":{\"colorbar\":{\"outlinewidth\":0,\"ticks\":\"\"}}}],\"scattermapbox\":[{\"type\":\"scattermapbox\",\"marker\":{\"colorbar\":{\"outlinewidth\":0,\"ticks\":\"\"}}}],\"scatterternary\":[{\"type\":\"scatterternary\",\"marker\":{\"colorbar\":{\"outlinewidth\":0,\"ticks\":\"\"}}}],\"scattercarpet\":[{\"type\":\"scattercarpet\",\"marker\":{\"colorbar\":{\"outlinewidth\":0,\"ticks\":\"\"}}}],\"carpet\":[{\"aaxis\":{\"endlinecolor\":\"#2a3f5f\",\"gridcolor\":\"white\",\"linecolor\":\"white\",\"minorgridcolor\":\"white\",\"startlinecolor\":\"#2a3f5f\"},\"baxis\":{\"endlinecolor\":\"#2a3f5f\",\"gridcolor\":\"white\",\"linecolor\":\"white\",\"minorgridcolor\":\"white\",\"startlinecolor\":\"#2a3f5f\"},\"type\":\"carpet\"}],\"table\":[{\"cells\":{\"fill\":{\"color\":\"#EBF0F8\"},\"line\":{\"color\":\"white\"}},\"header\":{\"fill\":{\"color\":\"#C8D4E3\"},\"line\":{\"color\":\"white\"}},\"type\":\"table\"}],\"barpolar\":[{\"marker\":{\"line\":{\"color\":\"#E5ECF6\",\"width\":0.5},\"pattern\":{\"fillmode\":\"overlay\",\"size\":10,\"solidity\":0.2}},\"type\":\"barpolar\"}],\"pie\":[{\"automargin\":true,\"type\":\"pie\"}]},\"layout\":{\"autotypenumbers\":\"strict\",\"colorway\":[\"#636efa\",\"#EF553B\",\"#00cc96\",\"#ab63fa\",\"#FFA15A\",\"#19d3f3\",\"#FF6692\",\"#B6E880\",\"#FF97FF\",\"#FECB52\"],\"font\":{\"color\":\"#2a3f5f\"},\"hovermode\":\"closest\",\"hoverlabel\":{\"align\":\"left\"},\"paper_bgcolor\":\"white\",\"plot_bgcolor\":\"#E5ECF6\",\"polar\":{\"bgcolor\":\"#E5ECF6\",\"angularaxis\":{\"gridcolor\":\"white\",\"linecolor\":\"white\",\"ticks\":\"\"},\"radialaxis\":{\"gridcolor\":\"white\",\"linecolor\":\"white\",\"ticks\":\"\"}},\"ternary\":{\"bgcolor\":\"#E5ECF6\",\"aaxis\":{\"gridcolor\":\"white\",\"linecolor\":\"white\",\"ticks\":\"\"},\"baxis\":{\"gridcolor\":\"white\",\"linecolor\":\"white\",\"ticks\":\"\"},\"caxis\":{\"gridcolor\":\"white\",\"linecolor\":\"white\",\"ticks\":\"\"}},\"coloraxis\":{\"colorbar\":{\"outlinewidth\":0,\"ticks\":\"\"}},\"colorscale\":{\"sequential\":[[0.0,\"#0d0887\"],[0.1111111111111111,\"#46039f\"],[0.2222222222222222,\"#7201a8\"],[0.3333333333333333,\"#9c179e\"],[0.4444444444444444,\"#bd3786\"],[0.5555555555555556,\"#d8576b\"],[0.6666666666666666,\"#ed7953\"],[0.7777777777777778,\"#fb9f3a\"],[0.8888888888888888,\"#fdca26\"],[1.0,\"#f0f921\"]],\"sequentialminus\":[[0.0,\"#0d0887\"],[0.1111111111111111,\"#46039f\"],[0.2222222222222222,\"#7201a8\"],[0.3333333333333333,\"#9c179e\"],[0.4444444444444444,\"#bd3786\"],[0.5555555555555556,\"#d8576b\"],[0.6666666666666666,\"#ed7953\"],[0.7777777777777778,\"#fb9f3a\"],[0.8888888888888888,\"#fdca26\"],[1.0,\"#f0f921\"]],\"diverging\":[[0,\"#8e0152\"],[0.1,\"#c51b7d\"],[0.2,\"#de77ae\"],[0.3,\"#f1b6da\"],[0.4,\"#fde0ef\"],[0.5,\"#f7f7f7\"],[0.6,\"#e6f5d0\"],[0.7,\"#b8e186\"],[0.8,\"#7fbc41\"],[0.9,\"#4d9221\"],[1,\"#276419\"]]},\"xaxis\":{\"gridcolor\":\"white\",\"linecolor\":\"white\",\"ticks\":\"\",\"title\":{\"standoff\":15},\"zerolinecolor\":\"white\",\"automargin\":true,\"zerolinewidth\":2},\"yaxis\":{\"gridcolor\":\"white\",\"linecolor\":\"white\",\"ticks\":\"\",\"title\":{\"standoff\":15},\"zerolinecolor\":\"white\",\"automargin\":true,\"zerolinewidth\":2},\"scene\":{\"xaxis\":{\"backgroundcolor\":\"#E5ECF6\",\"gridcolor\":\"white\",\"linecolor\":\"white\",\"showbackground\":true,\"ticks\":\"\",\"zerolinecolor\":\"white\",\"gridwidth\":2},\"yaxis\":{\"backgroundcolor\":\"#E5ECF6\",\"gridcolor\":\"white\",\"linecolor\":\"white\",\"showbackground\":true,\"ticks\":\"\",\"zerolinecolor\":\"white\",\"gridwidth\":2},\"zaxis\":{\"backgroundcolor\":\"#E5ECF6\",\"gridcolor\":\"white\",\"linecolor\":\"white\",\"showbackground\":true,\"ticks\":\"\",\"zerolinecolor\":\"white\",\"gridwidth\":2}},\"shapedefaults\":{\"line\":{\"color\":\"#2a3f5f\"}},\"annotationdefaults\":{\"arrowcolor\":\"#2a3f5f\",\"arrowhead\":0,\"arrowwidth\":1},\"geo\":{\"bgcolor\":\"white\",\"landcolor\":\"#E5ECF6\",\"subunitcolor\":\"white\",\"showland\":true,\"showlakes\":true,\"lakecolor\":\"white\"},\"title\":{\"x\":0.05},\"mapbox\":{\"style\":\"light\"}}},\"scene\":{\"domain\":{\"x\":[0.0,1.0],\"y\":[0.0,1.0]},\"xaxis\":{\"title\":{\"text\":\"X\"}},\"yaxis\":{\"title\":{\"text\":\"Y\"}},\"zaxis\":{\"title\":{\"text\":\"Z\"}}},\"legend\":{\"tracegroupgap\":0},\"title\":{\"text\":\"3D Scatter Plot\"}},                        {\"responsive\": true}                    ).then(function(){\n",
              "                            \n",
              "var gd = document.getElementById('94724695-33c8-4015-babe-c3414010b193');\n",
              "var x = new MutationObserver(function (mutations, observer) {{\n",
              "        var display = window.getComputedStyle(gd).display;\n",
              "        if (!display || display === 'none') {{\n",
              "            console.log([gd, 'removed!']);\n",
              "            Plotly.purge(gd);\n",
              "            observer.disconnect();\n",
              "        }}\n",
              "}});\n",
              "\n",
              "// Listen for the removal of the full notebook cells\n",
              "var notebookContainer = gd.closest('#notebook-container');\n",
              "if (notebookContainer) {{\n",
              "    x.observe(notebookContainer, {childList: true});\n",
              "}}\n",
              "\n",
              "// Listen for the clearing of the current output cell\n",
              "var outputEl = gd.closest('.output');\n",
              "if (outputEl) {{\n",
              "    x.observe(outputEl, {childList: true});\n",
              "}}\n",
              "\n",
              "                        })                };                            </script>        </div>\n",
              "</body>\n",
              "</html>"
            ]
          },
          "metadata": {}
        }
      ]
    }
  ]
}